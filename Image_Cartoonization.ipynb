{
  "cells": [
    {
      "cell_type": "markdown",
      "metadata": {
        "id": "view-in-github",
        "colab_type": "text"
      },
      "source": [
        "<a href=\"https://colab.research.google.com/github/soneekaacharyaa/Image-Cartoonization/blob/main/Image_Cartoonization.ipynb\" target=\"_parent\"><img src=\"https://colab.research.google.com/assets/colab-badge.svg\" alt=\"Open In Colab\"/></a>"
      ]
    },
    {
      "cell_type": "code",
      "execution_count": null,
      "metadata": {
        "colab": {
          "base_uri": "https://localhost:8080/"
        },
        "id": "EtWCQA167lDi",
        "outputId": "63b71af4-ce2b-4b24-fa2b-1c2bd403d25a"
      },
      "outputs": [
        {
          "name": "stdout",
          "output_type": "stream",
          "text": [
            "\u001b[2K     \u001b[90m━━━━━━━━━━━━━━━━━━━━━━━━━━━━━━━━━━━━━━━━\u001b[0m \u001b[32m8.9/8.9 MB\u001b[0m \u001b[31m71.3 MB/s\u001b[0m eta \u001b[36m0:00:00\u001b[0m\n",
            "\u001b[2K     \u001b[90m━━━━━━━━━━━━━━━━━━━━━━━━━━━━━━━━━━━━━━\u001b[0m \u001b[32m164.8/164.8 kB\u001b[0m \u001b[31m17.8 MB/s\u001b[0m eta \u001b[36m0:00:00\u001b[0m\n",
            "\u001b[?25h  Preparing metadata (setup.py) ... \u001b[?25l\u001b[?25hdone\n",
            "\u001b[2K     \u001b[90m━━━━━━━━━━━━━━━━━━━━━━━━━━━━━━━━━━━━━━\u001b[0m \u001b[32m184.3/184.3 kB\u001b[0m \u001b[31m15.1 MB/s\u001b[0m eta \u001b[36m0:00:00\u001b[0m\n",
            "\u001b[2K     \u001b[90m━━━━━━━━━━━━━━━━━━━━━━━━━━━━━━━━━━━━━━━━\u001b[0m \u001b[32m4.8/4.8 MB\u001b[0m \u001b[31m38.9 MB/s\u001b[0m eta \u001b[36m0:00:00\u001b[0m\n",
            "\u001b[2K     \u001b[90m━━━━━━━━━━━━━━━━━━━━━━━━━━━━━━━━━━━━━━━━\u001b[0m \u001b[32m82.1/82.1 kB\u001b[0m \u001b[31m8.6 MB/s\u001b[0m eta \u001b[36m0:00:00\u001b[0m\n",
            "\u001b[2K     \u001b[90m━━━━━━━━━━━━━━━━━━━━━━━━━━━━━━━━━━━━━━━━\u001b[0m \u001b[32m62.7/62.7 kB\u001b[0m \u001b[31m6.8 MB/s\u001b[0m eta \u001b[36m0:00:00\u001b[0m\n",
            "\u001b[?25h  Building wheel for validators (setup.py) ... \u001b[?25l\u001b[?25hdone\n"
          ]
        }
      ],
      "source": [
        "!pip install -q streamlit"
      ]
    },
    {
      "cell_type": "code",
      "execution_count": null,
      "metadata": {
        "colab": {
          "base_uri": "https://localhost:8080/"
        },
        "id": "v7aMDCEEBOgn",
        "outputId": "cdc647a9-5754-4fe7-de3a-8ccc27035b0c"
      },
      "outputs": [
        {
          "name": "stdout",
          "output_type": "stream",
          "text": [
            "Overwriting app.py\n"
          ]
        }
      ],
      "source": [
        "\n",
        "%%writefile app.py\n",
        "\n",
        "import cv2\n",
        "import numpy as np\n",
        "import streamlit as st\n",
        "from PIL import Image\n",
        "\n",
        "def preprocess_image(image):\n",
        "\n",
        "    resized_image = cv2.resize(image, (500, 500))\n",
        "    gray = cv2.cvtColor(resized_image, cv2.COLOR_BGR2GRAY)\n",
        "\n",
        "    # Apply a median blur to reduce noise\n",
        "    blurred = cv2.medianBlur(gray, 5)\n",
        "\n",
        "    return blurred\n",
        "\n",
        "def cartoonize_image(image):\n",
        "    # Resize the image to a desired size (e.g., width=800, height=600)\n",
        "    resized_image = cv2.resize(image, (800, 600))\n",
        "\n",
        "    gray = cv2.cvtColor(resized_image, cv2.COLOR_BGR2GRAY)\n",
        "\n",
        "    # Apply a bilateral filter for edge-preserving smoothing\n",
        "    filtered = cv2.bilateralFilter(gray, 9, 75, 75)\n",
        "\n",
        "    # Perform edge detection using the Laplacian operator\n",
        "    edges = cv2.Laplacian(filtered, cv2.CV_8U, ksize=5)\n",
        "\n",
        "    # Perform thresholding to obtain a binary image\n",
        "    _, thresholded = cv2.threshold(edges, 100, 255, cv2.THRESH_BINARY)\n",
        "\n",
        "    # Invert the thresholded image\n",
        "    thresholded_inv = cv2.bitwise_not(thresholded)\n",
        "\n",
        "    # Convert the thresholded image to color\n",
        "    colored = cv2.cvtColor(thresholded_inv, cv2.COLOR_GRAY2BGR)\n",
        "\n",
        "    # Resize the colored image back to the original size\n",
        "    colored_resized = cv2.resize(colored, (image.shape[1], image.shape[0]))\n",
        "\n",
        "    # Perform a bitwise AND operation between the resized image and the colored image\n",
        "    cartoonized = cv2.bitwise_and(image, colored_resized)\n",
        "\n",
        "    return cartoonized\n",
        "\n",
        "\n",
        "def main():\n",
        "    st.title(\"Image Cartoonization\")\n",
        "\n",
        "    # Upload image\n",
        "    uploaded_file = st.file_uploader(\"Choose an image file\", type=[\"jpg\", \"jpeg\", \"png\"])\n",
        "\n",
        "    if uploaded_file is not None:\n",
        "        # Read uploaded image\n",
        "        image = cv2.imdecode(np.frombuffer(uploaded_file.read(), np.uint8), 1)\n",
        "\n",
        "\n",
        "        preprocessed_image = preprocess_image(image)\n",
        "\n",
        "        # Perform image cartoonization\n",
        "        cartoonized_image = cartoonize_image(image)\n",
        "\n",
        "        # Display original and cartoonized images\n",
        "        st.subheader(\"Original Image\")\n",
        "        st.image(image, channels=\"BGR\")\n",
        "\n",
        "        st.subheader(\"Cartoonized Image\")\n",
        "        st.image(cartoonized_image, channels=\"BGR\")\n",
        "\n",
        "if __name__ == \"__main__\":\n",
        "    main()\n"
      ]
    },
    {
      "cell_type": "code",
      "execution_count": null,
      "metadata": {
        "colab": {
          "base_uri": "https://localhost:8080/"
        },
        "id": "U_6dmVb9BUnL",
        "outputId": "b630f8f7-b142-464c-918a-b54f92b77a29"
      },
      "outputs": [
        {
          "name": "stdout",
          "output_type": "stream",
          "text": [
            "\u001b[K\u001b[?25h\u001b[37;40mnpm\u001b[0m \u001b[0m\u001b[30;43mWARN\u001b[0m \u001b[0m\u001b[35msaveError\u001b[0m ENOENT: no such file or directory, open '/content/package.json'\n",
            "\u001b[K\u001b[?25h\u001b[37;40mnpm\u001b[0m \u001b[0m\u001b[30;43mWARN\u001b[0m \u001b[0m\u001b[35menoent\u001b[0m ENOENT: no such file or directory, open '/content/package.json'\n",
            "\u001b[0m\u001b[37;40mnpm\u001b[0m \u001b[0m\u001b[30;43mWARN\u001b[0m\u001b[35m\u001b[0m content No description\n",
            "\u001b[0m\u001b[37;40mnpm\u001b[0m \u001b[0m\u001b[30;43mWARN\u001b[0m\u001b[35m\u001b[0m content No repository field.\n",
            "\u001b[0m\u001b[37;40mnpm\u001b[0m \u001b[0m\u001b[30;43mWARN\u001b[0m\u001b[35m\u001b[0m content No README data\n",
            "\u001b[0m\u001b[37;40mnpm\u001b[0m \u001b[0m\u001b[30;43mWARN\u001b[0m\u001b[35m\u001b[0m content No license field.\n",
            "\u001b[0m\n",
            "+ localtunnel@2.0.2\n",
            "updated 1 package and audited 36 packages in 1.92s\n",
            "\n",
            "3 packages are looking for funding\n",
            "  run `npm fund` for details\n",
            "\n",
            "found \u001b[92m0\u001b[0m vulnerabilities\n",
            "\n",
            "\u001b[K\u001b[?25h"
          ]
        }
      ],
      "source": [
        "!npm install localtunnel"
      ]
    },
    {
      "cell_type": "code",
      "execution_count": null,
      "metadata": {
        "colab": {
          "background_save": true,
          "base_uri": "https://localhost:8080/"
        },
        "id": "dQ4hsh5QDsER",
        "outputId": "d1765322-1b45-4336-e91b-f921e4541700"
      },
      "outputs": [
        {
          "name": "stdout",
          "output_type": "stream",
          "text": [
            "35.199.169.174\n",
            "\u001b[K\u001b[?25hnpx: installed 22 in 3.563s\n",
            "your url is: https://huge-buttons-pick.loca.lt\n"
          ]
        }
      ],
      "source": [
        "!streamlit run app.py &>/content/logs.txt & npx localtunnel --port 8501 & curl ipv4.icanhazip.com"
      ]
    },
    {
      "cell_type": "code",
      "execution_count": null,
      "metadata": {
        "id": "PxQ2VbjoK1VW"
      },
      "outputs": [],
      "source": []
    }
  ],
  "metadata": {
    "colab": {
      "provenance": [],
      "include_colab_link": true
    },
    "kernelspec": {
      "display_name": "Python 3",
      "name": "python3"
    },
    "language_info": {
      "name": "python"
    }
  },
  "nbformat": 4,
  "nbformat_minor": 0
}